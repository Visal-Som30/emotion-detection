{
 "cells": [
  {
   "cell_type": "code",
   "execution_count": 9,
   "id": "initial_id",
   "metadata": {
    "ExecuteTime": {
     "end_time": "2023-12-01T10:07:47.404301900Z",
     "start_time": "2023-12-01T10:07:44.691792700Z"
    },
    "collapsed": true
   },
   "outputs": [],
   "source": [
    "# import required libraries\n",
    "from glob import glob\n",
    "import os\n",
    "import cv2\n",
    "from matplotlib import pyplot as plt\n",
    "import numpy as np\n",
    "from keras.layers import Conv2D, MaxPooling2D, Dense, Flatten, Dropout\n",
    "from keras.models import Sequential\n",
    "from keras import Input\n",
    "import keras"
   ]
  },
  {
   "cell_type": "code",
   "execution_count": 10,
   "id": "97f2cb27ced6ad8e",
   "metadata": {
    "ExecuteTime": {
     "end_time": "2023-12-01T10:10:13.128818400Z",
     "start_time": "2023-12-01T10:10:13.119301200Z"
    },
    "collapsed": false
   },
   "outputs": [],
   "source": [
    "# Class for Image Preprocessing that we have done in the project\n",
    "from Data_Preprocessing import ImagePreprocessing"
   ]
  },
  {
   "cell_type": "code",
   "execution_count": 11,
   "id": "6fb11a43a3fff781",
   "metadata": {
    "ExecuteTime": {
     "end_time": "2023-12-01T10:10:13.929124400Z",
     "start_time": "2023-12-01T10:10:13.906051700Z"
    },
    "collapsed": false
   },
   "outputs": [],
   "source": [
    "# path of dataset\n",
    "path = r\"data\""
   ]
  },
  {
   "cell_type": "code",
   "execution_count": 12,
   "id": "d33b5816e4b186bf",
   "metadata": {
    "ExecuteTime": {
     "end_time": "2023-12-01T10:10:14.570397700Z",
     "start_time": "2023-12-01T10:10:14.562645400Z"
    },
    "collapsed": false
   },
   "outputs": [],
   "source": [
    "# it will take path of dataset to get all images and labels(folder name that store images)\n",
    "# it will call function facial_detection_img from class ImagePreprocessing in file Data_Preprocessing.py\n",
    "# return X, Y, idx, X is features of images, Y is labels of images, idx is dictionary of label and index (ex:{\"angry\":0,\"happy\":1,\"neutral\":2})\n",
    "def make_data(path):\n",
    "    image_preprocessing = ImagePreprocessing()\n",
    "    X = []\n",
    "    Y = []\n",
    "    label_folders = os.listdir(path)\n",
    "    # label_folder = ['angry','happy','neutral']\n",
    "    idx = {label_folders[i]:i for i in range(len(label_folders))}\n",
    "    for label_folder in label_folders:\n",
    "        file_paths = glob(path+\"/\"+label_folder+\"/*.*\")\n",
    "        # file_paths = file_paths[:20]\n",
    "        for file_path in file_paths:\n",
    "            img = cv2.imread(file_path)\n",
    "            img = image_preprocessing.facial_detection_img(img)\n",
    "            if img is None:\n",
    "                continue\n",
    "            X.append(img)\n",
    "            Y.append(idx[label_folder])\n",
    "    return X, Y , idx"
   ]
  },
  {
   "cell_type": "code",
   "execution_count": 13,
   "id": "9dbd0e1d6c84345e",
   "metadata": {
    "ExecuteTime": {
     "end_time": "2023-12-01T10:10:18.272318900Z",
     "start_time": "2023-12-01T10:10:16.893860500Z"
    },
    "collapsed": false
   },
   "outputs": [],
   "source": [
    "# give path of dataset to get return data that ready to train\n",
    "X, Y,Idx = make_data(path)\n",
    "# X is features \n",
    "# Y is labels\n",
    "# Idx is dictionary of label and index (ex:{\"angry\":0,\"happy\":1,\"neutral\":2})"
   ]
  },
  {
   "cell_type": "code",
   "execution_count": 14,
   "id": "de0fc40f959bbc07",
   "metadata": {
    "ExecuteTime": {
     "end_time": "2023-12-01T09:57:05.157488500Z",
     "start_time": "2023-12-01T09:57:05.143888100Z"
    },
    "collapsed": false
   },
   "outputs": [],
   "source": [
    "# convert X to numpy array\n",
    "X = np.array(X)"
   ]
  },
  {
   "cell_type": "code",
   "execution_count": 160,
   "id": "82808d3418636a62",
   "metadata": {
    "ExecuteTime": {
     "end_time": "2023-11-30T17:11:53.016334400Z",
     "start_time": "2023-11-30T17:11:53.010915Z"
    },
    "collapsed": false
   },
   "outputs": [],
   "source": [
    "# import required library\n"
   ]
  },
  {
   "cell_type": "code",
   "execution_count": 15,
   "id": "9a6db5c24da28dac",
   "metadata": {
    "ExecuteTime": {
     "end_time": "2023-11-30T17:12:33.310039700Z",
     "start_time": "2023-11-30T17:12:33.263527900Z"
    },
    "collapsed": false
   },
   "outputs": [
    {
     "name": "stdout",
     "output_type": "stream",
     "text": [
      "WARNING:tensorflow:From c:\\Users\\davan\\anaconda3\\Lib\\site-packages\\keras\\src\\backend.py:873: The name tf.get_default_graph is deprecated. Please use tf.compat.v1.get_default_graph instead.\n",
      "\n",
      "WARNING:tensorflow:From c:\\Users\\davan\\anaconda3\\Lib\\site-packages\\keras\\src\\layers\\pooling\\max_pooling2d.py:161: The name tf.nn.max_pool is deprecated. Please use tf.nn.max_pool2d instead.\n",
      "\n",
      "WARNING:tensorflow:From c:\\Users\\davan\\anaconda3\\Lib\\site-packages\\keras\\src\\optimizers\\__init__.py:309: The name tf.train.Optimizer is deprecated. Please use tf.compat.v1.train.Optimizer instead.\n",
      "\n"
     ]
    }
   ],
   "source": [
    "# define a sequential model with 4 convolutional layers \n",
    "# it will take input shape of image (224,224,3)\n",
    "# it will use relu activation function for convolutional layers\n",
    "# it will use softmax activation function for fully connected layers\n",
    "# it will use adam optimizer\n",
    "# it will use categorical_crossentropy loss function\n",
    "# it will use accuracy metrics\n",
    "model = Sequential()\n",
    "\n",
    "model.add(Conv2D(32, (3, 3), activation='relu', input_shape=(224, 224, 3)))\n",
    "model.add(MaxPooling2D(pool_size=(2, 2)))\n",
    "\n",
    "model.add(Conv2D(64, (3, 3), activation='relu'))\n",
    "model.add(MaxPooling2D(pool_size=(2, 2)))\n",
    "\n",
    "model.add(Conv2D(128, (3, 3), activation='relu'))\n",
    "model.add(MaxPooling2D(pool_size=(2, 2)))\n",
    "\n",
    "model.add(Conv2D(256, (3, 3), activation='relu'))\n",
    "model.add(MaxPooling2D(pool_size=(2, 2)))\n",
    "\n",
    "model.add(Dropout(0))\n",
    "model.add(Flatten())\n",
    "\n",
    "model.add(Dense(512, activation='relu'))\n",
    "model.add(Dropout(0))\n",
    "\n",
    "model.add(Dense(3, activation='softmax'))\n",
    "\n",
    "model.compile(optimizer='adam', loss='categorical_crossentropy', metrics=['accuracy'])"
   ]
  },
  {
   "cell_type": "code",
   "execution_count": 16,
   "id": "1987aa6d07136918",
   "metadata": {
    "ExecuteTime": {
     "end_time": "2023-11-30T17:12:38.636287100Z",
     "start_time": "2023-11-30T17:12:38.606946400Z"
    },
    "collapsed": false
   },
   "outputs": [],
   "source": [
    "# convert Y to categorical (it similar to one hot encoding)\n",
    "_Y = keras.utils.to_categorical(Y)"
   ]
  },
  {
   "cell_type": "code",
   "execution_count": 17,
   "id": "ef9e586ade8c29bc",
   "metadata": {
    "ExecuteTime": {
     "end_time": "2023-11-30T17:12:58.823623500Z",
     "start_time": "2023-11-30T17:12:39.450504900Z"
    },
    "collapsed": false
   },
   "outputs": [
    {
     "name": "stdout",
     "output_type": "stream",
     "text": [
      "Epoch 1/100\n",
      "WARNING:tensorflow:From c:\\Users\\davan\\anaconda3\\Lib\\site-packages\\keras\\src\\utils\\tf_utils.py:492: The name tf.ragged.RaggedTensorValue is deprecated. Please use tf.compat.v1.ragged.RaggedTensorValue instead.\n",
      "\n",
      "WARNING:tensorflow:From c:\\Users\\davan\\anaconda3\\Lib\\site-packages\\keras\\src\\engine\\base_layer_utils.py:384: The name tf.executing_eagerly_outside_functions is deprecated. Please use tf.compat.v1.executing_eagerly_outside_functions instead.\n",
      "\n",
      "6/6 [==============================] - 4s 382ms/step - loss: 534.1708 - accuracy: 0.3678\n",
      "Epoch 2/100\n",
      "6/6 [==============================] - 4s 518ms/step - loss: 18.4518 - accuracy: 0.2874\n",
      "Epoch 3/100\n",
      "6/6 [==============================] - 2s 417ms/step - loss: 1.2689 - accuracy: 0.4138\n",
      "Epoch 4/100\n",
      "6/6 [==============================] - 2s 393ms/step - loss: 1.0513 - accuracy: 0.4368\n",
      "Epoch 5/100\n",
      "6/6 [==============================] - 3s 538ms/step - loss: 0.9022 - accuracy: 0.4368\n",
      "Epoch 6/100\n",
      "6/6 [==============================] - 3s 489ms/step - loss: 0.8949 - accuracy: 0.5747\n",
      "Epoch 7/100\n",
      "6/6 [==============================] - 4s 590ms/step - loss: 0.7578 - accuracy: 0.6322\n",
      "Epoch 8/100\n",
      "6/6 [==============================] - 3s 480ms/step - loss: 0.7822 - accuracy: 0.6437\n",
      "Epoch 9/100\n",
      "6/6 [==============================] - 3s 438ms/step - loss: 0.7235 - accuracy: 0.6897\n",
      "Epoch 10/100\n",
      "6/6 [==============================] - 3s 450ms/step - loss: 0.7539 - accuracy: 0.6322\n",
      "Epoch 11/100\n",
      "6/6 [==============================] - 3s 419ms/step - loss: 1.4364 - accuracy: 0.4828\n",
      "Epoch 12/100\n",
      "6/6 [==============================] - 3s 447ms/step - loss: 0.8599 - accuracy: 0.6667\n",
      "Epoch 13/100\n",
      "6/6 [==============================] - 3s 528ms/step - loss: 0.7389 - accuracy: 0.7471\n",
      "Epoch 14/100\n",
      "6/6 [==============================] - 3s 418ms/step - loss: 0.5804 - accuracy: 0.8046\n",
      "Epoch 15/100\n",
      "6/6 [==============================] - 3s 442ms/step - loss: 0.4766 - accuracy: 0.8276\n",
      "Epoch 16/100\n",
      "6/6 [==============================] - 3s 488ms/step - loss: 0.4855 - accuracy: 0.7816\n",
      "Epoch 17/100\n",
      "6/6 [==============================] - 4s 609ms/step - loss: 0.3657 - accuracy: 0.8736\n",
      "Epoch 18/100\n",
      "6/6 [==============================] - 2s 405ms/step - loss: 0.3046 - accuracy: 0.9080\n",
      "Epoch 19/100\n",
      "6/6 [==============================] - 3s 426ms/step - loss: 0.3205 - accuracy: 0.9195\n",
      "Epoch 20/100\n",
      "6/6 [==============================] - 3s 409ms/step - loss: 0.2721 - accuracy: 0.9195\n",
      "Epoch 21/100\n",
      "6/6 [==============================] - 3s 472ms/step - loss: 0.2192 - accuracy: 0.9195\n",
      "Epoch 22/100\n",
      "6/6 [==============================] - 3s 460ms/step - loss: 0.1505 - accuracy: 0.9425\n",
      "Epoch 23/100\n",
      "6/6 [==============================] - 3s 436ms/step - loss: 0.0888 - accuracy: 0.9770\n",
      "Epoch 24/100\n",
      "6/6 [==============================] - 3s 472ms/step - loss: 0.0761 - accuracy: 0.9655\n",
      "Epoch 25/100\n",
      "6/6 [==============================] - 3s 508ms/step - loss: 0.0464 - accuracy: 0.9885\n",
      "Epoch 26/100\n",
      "6/6 [==============================] - 3s 465ms/step - loss: 0.0273 - accuracy: 0.9885\n",
      "Epoch 27/100\n",
      "6/6 [==============================] - 3s 429ms/step - loss: 0.0166 - accuracy: 0.9885\n",
      "Epoch 28/100\n",
      "6/6 [==============================] - 3s 479ms/step - loss: 0.0200 - accuracy: 1.0000\n",
      "Epoch 29/100\n",
      "6/6 [==============================] - 3s 479ms/step - loss: 0.3358 - accuracy: 0.9540\n",
      "Epoch 30/100\n",
      "6/6 [==============================] - 3s 420ms/step - loss: 0.2588 - accuracy: 0.8966\n",
      "Epoch 31/100\n",
      "6/6 [==============================] - 3s 416ms/step - loss: 0.1761 - accuracy: 0.9080\n",
      "Epoch 32/100\n",
      "6/6 [==============================] - 3s 431ms/step - loss: 0.0723 - accuracy: 1.0000\n",
      "Epoch 33/100\n",
      "6/6 [==============================] - 3s 432ms/step - loss: 0.1108 - accuracy: 0.9770\n",
      "Epoch 34/100\n",
      "6/6 [==============================] - 3s 423ms/step - loss: 0.0280 - accuracy: 0.9885\n",
      "Epoch 35/100\n",
      "6/6 [==============================] - 3s 466ms/step - loss: 0.0166 - accuracy: 1.0000\n",
      "Epoch 36/100\n",
      "6/6 [==============================] - 3s 461ms/step - loss: 0.0161 - accuracy: 0.9885\n",
      "Epoch 37/100\n",
      "6/6 [==============================] - 3s 470ms/step - loss: 0.0074 - accuracy: 1.0000\n",
      "Epoch 38/100\n",
      "6/6 [==============================] - 3s 463ms/step - loss: 0.0036 - accuracy: 1.0000\n",
      "Epoch 39/100\n",
      "6/6 [==============================] - 3s 429ms/step - loss: 0.0033 - accuracy: 1.0000\n",
      "Epoch 40/100\n",
      "6/6 [==============================] - 3s 424ms/step - loss: 0.0020 - accuracy: 1.0000\n",
      "Epoch 41/100\n",
      "6/6 [==============================] - 3s 427ms/step - loss: 0.0012 - accuracy: 1.0000\n",
      "Epoch 42/100\n",
      "6/6 [==============================] - 3s 428ms/step - loss: 8.5518e-04 - accuracy: 1.0000\n",
      "Epoch 43/100\n",
      "6/6 [==============================] - 3s 415ms/step - loss: 7.1520e-04 - accuracy: 1.0000\n",
      "Epoch 44/100\n",
      "6/6 [==============================] - 2s 405ms/step - loss: 5.8210e-04 - accuracy: 1.0000\n",
      "Epoch 45/100\n",
      "6/6 [==============================] - 3s 428ms/step - loss: 4.7451e-04 - accuracy: 1.0000\n",
      "Epoch 46/100\n",
      "6/6 [==============================] - 3s 427ms/step - loss: 3.6204e-04 - accuracy: 1.0000\n",
      "Epoch 47/100\n",
      "6/6 [==============================] - 3s 425ms/step - loss: 3.0305e-04 - accuracy: 1.0000\n",
      "Epoch 48/100\n",
      "6/6 [==============================] - 3s 436ms/step - loss: 2.1047e-04 - accuracy: 1.0000\n",
      "Epoch 49/100\n",
      "6/6 [==============================] - 3s 425ms/step - loss: 1.4707e-04 - accuracy: 1.0000\n",
      "Epoch 50/100\n",
      "6/6 [==============================] - 3s 435ms/step - loss: 9.1951e-05 - accuracy: 1.0000\n",
      "Epoch 51/100\n",
      "6/6 [==============================] - 3s 434ms/step - loss: 4.9012e-05 - accuracy: 1.0000\n",
      "Epoch 52/100\n",
      "6/6 [==============================] - 3s 472ms/step - loss: 3.2917e-05 - accuracy: 1.0000\n",
      "Epoch 53/100\n",
      "6/6 [==============================] - 3s 460ms/step - loss: 2.3954e-05 - accuracy: 1.0000\n",
      "Epoch 54/100\n",
      "6/6 [==============================] - 3s 477ms/step - loss: 1.7546e-05 - accuracy: 1.0000\n",
      "Epoch 55/100\n",
      "6/6 [==============================] - 3s 414ms/step - loss: 1.3408e-05 - accuracy: 1.0000\n",
      "Epoch 56/100\n",
      "6/6 [==============================] - 3s 471ms/step - loss: 1.1552e-05 - accuracy: 1.0000\n",
      "Epoch 57/100\n",
      "6/6 [==============================] - 3s 583ms/step - loss: 1.0012e-05 - accuracy: 1.0000\n",
      "Epoch 58/100\n",
      "6/6 [==============================] - 4s 634ms/step - loss: 8.5190e-06 - accuracy: 1.0000\n",
      "Epoch 59/100\n",
      "6/6 [==============================] - 3s 513ms/step - loss: 7.6820e-06 - accuracy: 1.0000\n",
      "Epoch 60/100\n",
      "6/6 [==============================] - 3s 442ms/step - loss: 6.7409e-06 - accuracy: 1.0000\n",
      "Epoch 61/100\n",
      "6/6 [==============================] - 3s 452ms/step - loss: 6.0559e-06 - accuracy: 1.0000\n",
      "Epoch 62/100\n",
      "6/6 [==============================] - 3s 538ms/step - loss: 5.4737e-06 - accuracy: 1.0000\n",
      "Epoch 63/100\n",
      "6/6 [==============================] - 3s 466ms/step - loss: 4.9928e-06 - accuracy: 1.0000\n",
      "Epoch 64/100\n",
      "6/6 [==============================] - 3s 436ms/step - loss: 4.6037e-06 - accuracy: 1.0000\n",
      "Epoch 65/100\n",
      "6/6 [==============================] - 3s 433ms/step - loss: 4.2023e-06 - accuracy: 1.0000\n",
      "Epoch 66/100\n",
      "6/6 [==============================] - 3s 432ms/step - loss: 3.9515e-06 - accuracy: 1.0000\n",
      "Epoch 67/100\n",
      "6/6 [==============================] - 3s 428ms/step - loss: 3.7268e-06 - accuracy: 1.0000\n",
      "Epoch 68/100\n",
      "6/6 [==============================] - 3s 455ms/step - loss: 3.4131e-06 - accuracy: 1.0000\n",
      "Epoch 69/100\n",
      "6/6 [==============================] - 3s 447ms/step - loss: 3.1911e-06 - accuracy: 1.0000\n",
      "Epoch 70/100\n",
      "6/6 [==============================] - 4s 581ms/step - loss: 2.9938e-06 - accuracy: 1.0000\n",
      "Epoch 71/100\n",
      "6/6 [==============================] - 3s 512ms/step - loss: 2.8034e-06 - accuracy: 1.0000\n",
      "Epoch 72/100\n",
      "6/6 [==============================] - 4s 604ms/step - loss: 2.6883e-06 - accuracy: 1.0000\n",
      "Epoch 73/100\n",
      "6/6 [==============================] - 3s 538ms/step - loss: 2.4759e-06 - accuracy: 1.0000\n",
      "Epoch 74/100\n",
      "6/6 [==============================] - 3s 516ms/step - loss: 2.3787e-06 - accuracy: 1.0000\n",
      "Epoch 75/100\n",
      "6/6 [==============================] - 3s 513ms/step - loss: 2.2266e-06 - accuracy: 1.0000\n",
      "Epoch 76/100\n",
      "6/6 [==============================] - 3s 510ms/step - loss: 2.1142e-06 - accuracy: 1.0000\n",
      "Epoch 77/100\n",
      "6/6 [==============================] - 4s 579ms/step - loss: 1.9991e-06 - accuracy: 1.0000\n",
      "Epoch 78/100\n",
      "6/6 [==============================] - 3s 491ms/step - loss: 1.9087e-06 - accuracy: 1.0000\n",
      "Epoch 79/100\n",
      "6/6 [==============================] - 3s 502ms/step - loss: 1.8169e-06 - accuracy: 1.0000\n",
      "Epoch 80/100\n",
      "6/6 [==============================] - 3s 477ms/step - loss: 1.7429e-06 - accuracy: 1.0000\n",
      "Epoch 81/100\n",
      "6/6 [==============================] - 3s 457ms/step - loss: 1.6785e-06 - accuracy: 1.0000\n",
      "Epoch 82/100\n",
      "6/6 [==============================] - 3s 453ms/step - loss: 1.6004e-06 - accuracy: 1.0000\n",
      "Epoch 83/100\n",
      "6/6 [==============================] - 3s 455ms/step - loss: 1.5566e-06 - accuracy: 1.0000\n",
      "Epoch 84/100\n",
      "6/6 [==============================] - 3s 437ms/step - loss: 1.4963e-06 - accuracy: 1.0000\n",
      "Epoch 85/100\n",
      "6/6 [==============================] - 3s 454ms/step - loss: 1.4757e-06 - accuracy: 1.0000\n",
      "Epoch 86/100\n",
      "6/6 [==============================] - 3s 500ms/step - loss: 1.3962e-06 - accuracy: 1.0000\n",
      "Epoch 87/100\n",
      "6/6 [==============================] - 3s 496ms/step - loss: 1.3373e-06 - accuracy: 1.0000\n",
      "Epoch 88/100\n",
      "6/6 [==============================] - 3s 473ms/step - loss: 1.2962e-06 - accuracy: 1.0000\n",
      "Epoch 89/100\n",
      "6/6 [==============================] - 3s 483ms/step - loss: 1.2592e-06 - accuracy: 1.0000\n",
      "Epoch 90/100\n",
      "6/6 [==============================] - 3s 446ms/step - loss: 1.2154e-06 - accuracy: 1.0000\n",
      "Epoch 91/100\n",
      "6/6 [==============================] - 3s 460ms/step - loss: 1.1852e-06 - accuracy: 1.0000\n",
      "Epoch 92/100\n",
      "6/6 [==============================] - 3s 459ms/step - loss: 1.1523e-06 - accuracy: 1.0000\n",
      "Epoch 93/100\n",
      "6/6 [==============================] - 3s 453ms/step - loss: 1.1030e-06 - accuracy: 1.0000\n",
      "Epoch 94/100\n",
      "6/6 [==============================] - 3s 465ms/step - loss: 1.0948e-06 - accuracy: 1.0000\n",
      "Epoch 95/100\n",
      "6/6 [==============================] - 3s 428ms/step - loss: 1.0318e-06 - accuracy: 1.0000\n",
      "Epoch 96/100\n",
      "6/6 [==============================] - 3s 476ms/step - loss: 9.9888e-07 - accuracy: 1.0000\n",
      "Epoch 97/100\n",
      "6/6 [==============================] - 3s 468ms/step - loss: 9.7559e-07 - accuracy: 1.0000\n",
      "Epoch 98/100\n",
      "6/6 [==============================] - 3s 486ms/step - loss: 9.4408e-07 - accuracy: 1.0000\n",
      "Epoch 99/100\n",
      "6/6 [==============================] - 3s 454ms/step - loss: 9.1119e-07 - accuracy: 1.0000\n",
      "Epoch 100/100\n",
      "6/6 [==============================] - 3s 454ms/step - loss: 8.8790e-07 - accuracy: 1.0000\n"
     ]
    },
    {
     "data": {
      "text/plain": [
       "<keras.src.callbacks.History at 0x217d4cfd950>"
      ]
     },
     "execution_count": 17,
     "metadata": {},
     "output_type": "execute_result"
    }
   ],
   "source": [
    "# train model\n",
    "model.fit(X,_Y, epochs=100, batch_size=16)"
   ]
  },
  {
   "cell_type": "code",
   "execution_count": 18,
   "metadata": {},
   "outputs": [
    {
     "data": {
      "image/png": "[encoded data removed]",
      "text/plain": [
       "<Figure size 640x480 with 1 Axes>"
      ]
     },
     "metadata": {},
     "output_type": "display_data"
    }
   ],
   "source": [
    "# show visualization between epochs and accuracy and loss\n",
    "plt.plot(model.history.history['accuracy'])\n",
    "# title of plot\n",
    "plt.title('model accuracy')\n",
    "# label of x axis\n",
    "plt.xlabel('epoch')\n",
    "# label of y axis\n",
    "plt.ylabel('accuracy')\n",
    "# show plot\n",
    "plt.show()"
   ]
  },
  {
   "cell_type": "code",
   "execution_count": 19,
   "metadata": {},
   "outputs": [
    {
     "data": {
      "image/png": "[encoded data removed]",
      "text/plain": [
       "<Figure size 640x480 with 1 Axes>"
      ]
     },
     "metadata": {},
     "output_type": "display_data"
    }
   ],
   "source": [
    "plt.plot(model.history.history['loss'])\n",
    "# title of plot\n",
    "plt.title('model loss')\n",
    "# label of x axis\n",
    "plt.xlabel('epoch')\n",
    "# label of y axis\n",
    "plt.ylabel('loss')\n",
    "# show plot\n",
    "plt.show()"
   ]
  },
  {
   "cell_type": "code",
   "execution_count": 20,
   "metadata": {},
   "outputs": [
    {
     "name": "stderr",
     "output_type": "stream",
     "text": [
      "c:\\Users\\davan\\anaconda3\\Lib\\site-packages\\keras\\src\\engine\\training.py:3103: UserWarning: You are saving your model as an HDF5 file via `model.save()`. This file format is considered legacy. We recommend using instead the native Keras format, e.g. `model.save('my_model.keras')`.\n",
      "  saving_api.save_model(\n"
     ]
    }
   ],
   "source": [
    "# save model\n",
    "model.save(\"model.h5\")"
   ]
  }
 ],
 "metadata": {
  "kernelspec": {
   "display_name": "Python 3",
   "language": "python",
   "name": "python3"
  },
  "language_info": {
   "codemirror_mode": {
    "name": "ipython",
    "version": 3
   },
   "file_extension": ".py",
   "mimetype": "text/x-python",
   "name": "python",
   "nbconvert_exporter": "python",
   "pygments_lexer": "ipython3",
   "version": "3.11.4"
  }
 },
 "nbformat": 4,
 "nbformat_minor": 5
}
