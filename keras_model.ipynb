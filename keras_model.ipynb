{
 "cells": [
  {
   "cell_type": "code",
   "execution_count": 1,
   "id": "initial_id",
   "metadata": {
    "ExecuteTime": {
     "end_time": "2023-12-01T10:07:47.404301900Z",
     "start_time": "2023-12-01T10:07:44.691792700Z"
    },
    "collapsed": true
   },
   "outputs": [],
   "source": [
    "from glob import glob\n",
    "import os\n",
    "import cv2\n",
    "from matplotlib import pyplot as plt\n",
    "import numpy as np"
   ]
  },
  {
   "cell_type": "code",
   "execution_count": 2,
   "id": "97f2cb27ced6ad8e",
   "metadata": {
    "ExecuteTime": {
     "end_time": "2023-12-01T10:10:13.128818400Z",
     "start_time": "2023-12-01T10:10:13.119301200Z"
    },
    "collapsed": false
   },
   "outputs": [
    {
     "name": "stdout",
     "output_type": "stream",
     "text": [
      "WARNING:tensorflow:From c:\\Users\\ASUS\\anaconda3\\Lib\\site-packages\\keras\\src\\losses.py:2976: The name tf.losses.sparse_softmax_cross_entropy is deprecated. Please use tf.compat.v1.losses.sparse_softmax_cross_entropy instead.\n",
      "\n"
     ]
    }
   ],
   "source": [
    "from Image_Preprocessing import ImagePreprocessor"
   ]
  },
  {
   "cell_type": "code",
   "execution_count": 6,
   "id": "6fb11a43a3fff781",
   "metadata": {
    "ExecuteTime": {
     "end_time": "2023-12-01T10:10:13.929124400Z",
     "start_time": "2023-12-01T10:10:13.906051700Z"
    },
    "collapsed": false
   },
   "outputs": [],
   "source": [
    "# path of dataset\n",
    "path = r\"data\""
   ]
  },
  {
   "cell_type": "code",
   "execution_count": 7,
   "id": "d33b5816e4b186bf",
   "metadata": {
    "ExecuteTime": {
     "end_time": "2023-12-01T10:10:14.570397700Z",
     "start_time": "2023-12-01T10:10:14.562645400Z"
    },
    "collapsed": false
   },
   "outputs": [],
   "source": [
    "# it will take path of dataset to get all images and labels(folder name that store images)\n",
    "# it will call function facial_detection from class ImagePreprocesor in file Image_Preprocessing.py\n",
    "# return X, Y, idx, X is features of images, Y is labels of images, idx is dictionary of label and index (ex:{\"angry\":0,\"happy\":1,\"neutral\":2})\n",
    "def make_data(path):\n",
    "    image_preprocessing = ImagePreprocessor()\n",
    "    X = []\n",
    "    Y = []\n",
    "    label_folders = os.listdir(path)\n",
    "    # label_folder = ['angry','happy','neutral']\n",
    "    idx = {label_folders[i]:i for i in range(len(label_folders))}\n",
    "    for label_folder in label_folders:\n",
    "        file_paths = glob(path+\"/\"+label_folder+\"/*.*\")\n",
    "        file_paths = file_paths[:20]\n",
    "        for file_path in file_paths:\n",
    "            img = image_preprocessing.facial_detection(file_path)\n",
    "            if img is None:\n",
    "                continue\n",
    "            X.append(cv2.resize(img,(100,100)))\n",
    "            Y.append(idx[label_folder])\n",
    "    return X, Y , idx"
   ]
  },
  {
   "cell_type": "code",
   "execution_count": 8,
   "id": "9dbd0e1d6c84345e",
   "metadata": {
    "ExecuteTime": {
     "end_time": "2023-12-01T10:10:18.272318900Z",
     "start_time": "2023-12-01T10:10:16.893860500Z"
    },
    "collapsed": false
   },
   "outputs": [],
   "source": [
    "# give path of dataset to get return data that ready to train\n",
    "X, Y,Idx = make_data(path)"
   ]
  },
  {
   "cell_type": "code",
   "execution_count": 9,
   "id": "de0fc40f959bbc07",
   "metadata": {
    "ExecuteTime": {
     "end_time": "2023-12-01T09:57:05.157488500Z",
     "start_time": "2023-12-01T09:57:05.143888100Z"
    },
    "collapsed": false
   },
   "outputs": [],
   "source": [
    "# convert X to numpy array\n",
    "X = np.array(X)"
   ]
  },
  {
   "cell_type": "code",
   "execution_count": 10,
   "id": "fb3c3ce2132524ae",
   "metadata": {
    "ExecuteTime": {
     "end_time": "2023-12-01T09:54:46.828674300Z",
     "start_time": "2023-12-01T09:54:46.809374900Z"
    },
    "collapsed": false
   },
   "outputs": [
    {
     "data": {
      "text/plain": [
       "(36, 100, 100, 3)"
      ]
     },
     "execution_count": 10,
     "metadata": {},
     "output_type": "execute_result"
    }
   ],
   "source": [
    "# check shape of X\n",
    "X.shape"
   ]
  },
  {
   "cell_type": "code",
   "execution_count": 11,
   "id": "82808d3418636a62",
   "metadata": {
    "ExecuteTime": {
     "end_time": "2023-11-30T17:11:53.016334400Z",
     "start_time": "2023-11-30T17:11:53.010915Z"
    },
    "collapsed": false
   },
   "outputs": [],
   "source": [
    "# import required library\n",
    "from keras.layers import Conv2D, MaxPooling2D, Dense, Flatten, Dropout\n",
    "from keras.models import Sequential\n",
    "from keras import Input"
   ]
  },
  {
   "cell_type": "code",
   "execution_count": 12,
   "id": "9a6db5c24da28dac",
   "metadata": {
    "ExecuteTime": {
     "end_time": "2023-11-30T17:12:33.310039700Z",
     "start_time": "2023-11-30T17:12:33.263527900Z"
    },
    "collapsed": false
   },
   "outputs": [
    {
     "name": "stdout",
     "output_type": "stream",
     "text": [
      "WARNING:tensorflow:From c:\\Users\\ASUS\\anaconda3\\Lib\\site-packages\\keras\\src\\backend.py:873: The name tf.get_default_graph is deprecated. Please use tf.compat.v1.get_default_graph instead.\n",
      "\n",
      "WARNING:tensorflow:From c:\\Users\\ASUS\\anaconda3\\Lib\\site-packages\\keras\\src\\layers\\pooling\\max_pooling2d.py:161: The name tf.nn.max_pool is deprecated. Please use tf.nn.max_pool2d instead.\n",
      "\n"
     ]
    }
   ],
   "source": [
    "# create a sequential model\n",
    "model = Sequential()\n",
    "# add layer to model before compile it\n",
    "model.add(Input(shape=(100,100,3)))\n",
    "model.add(Conv2D(32, (3,3), activation='relu'))\n",
    "model.add(MaxPooling2D(pool_size=(2,2)))\n",
    "model.add(Dropout(0))\n",
    "model.add(Conv2D(64,(3,3), activation='relu'))\n",
    "model.add(MaxPooling2D(pool_size=(2,2)))\n",
    "model.add(Dropout(0))\n",
    "model.add(Flatten())"
   ]
  },
  {
   "cell_type": "code",
   "execution_count": 13,
   "id": "159269afe841bbf4",
   "metadata": {
    "ExecuteTime": {
     "end_time": "2023-11-30T17:12:35.215986800Z",
     "start_time": "2023-11-30T17:12:35.178311Z"
    },
    "collapsed": false
   },
   "outputs": [],
   "source": [
    "\n",
    "model.add(Dense(128, activation='relu'))\n",
    "# model.add(Dense(64, activation='relu'))\n",
    "# model.add(Dense(128, activation='relu'))\n",
    "model.add(Dropout(0))\n",
    "model.add(Dense(3, activation='softmax'))"
   ]
  },
  {
   "cell_type": "code",
   "execution_count": 14,
   "id": "33742be730e647c3",
   "metadata": {
    "ExecuteTime": {
     "end_time": "2023-11-30T17:12:36.925013200Z",
     "start_time": "2023-11-30T17:12:36.916140Z"
    },
    "collapsed": false
   },
   "outputs": [
    {
     "name": "stdout",
     "output_type": "stream",
     "text": [
      "WARNING:tensorflow:From c:\\Users\\ASUS\\anaconda3\\Lib\\site-packages\\keras\\src\\optimizers\\__init__.py:309: The name tf.train.Optimizer is deprecated. Please use tf.compat.v1.train.Optimizer instead.\n",
      "\n"
     ]
    }
   ],
   "source": [
    "# compile model\n",
    "model.compile(optimizer='adam', loss='categorical_crossentropy', metrics=['accuracy'])"
   ]
  },
  {
   "cell_type": "code",
   "execution_count": 15,
   "id": "ea86050c9a7ac5c3",
   "metadata": {
    "ExecuteTime": {
     "end_time": "2023-11-30T17:12:37.628041900Z",
     "start_time": "2023-11-30T17:12:37.617849500Z"
    },
    "collapsed": false
   },
   "outputs": [],
   "source": [
    "import keras"
   ]
  },
  {
   "cell_type": "code",
   "execution_count": 16,
   "id": "1987aa6d07136918",
   "metadata": {
    "ExecuteTime": {
     "end_time": "2023-11-30T17:12:38.636287100Z",
     "start_time": "2023-11-30T17:12:38.606946400Z"
    },
    "collapsed": false
   },
   "outputs": [],
   "source": [
    "# convert Y to categorical (it similar to one hot encoding)\n",
    "_Y = keras.utils.to_categorical(Y)"
   ]
  },
  {
   "cell_type": "code",
   "execution_count": 17,
   "id": "ef9e586ade8c29bc",
   "metadata": {
    "ExecuteTime": {
     "end_time": "2023-11-30T17:12:58.823623500Z",
     "start_time": "2023-11-30T17:12:39.450504900Z"
    },
    "collapsed": false
   },
   "outputs": [
    {
     "name": "stdout",
     "output_type": "stream",
     "text": [
      "Epoch 1/16\n",
      "WARNING:tensorflow:From c:\\Users\\ASUS\\anaconda3\\Lib\\site-packages\\keras\\src\\utils\\tf_utils.py:492: The name tf.ragged.RaggedTensorValue is deprecated. Please use tf.compat.v1.ragged.RaggedTensorValue instead.\n",
      "\n",
      "WARNING:tensorflow:From c:\\Users\\ASUS\\anaconda3\\Lib\\site-packages\\keras\\src\\engine\\base_layer_utils.py:384: The name tf.executing_eagerly_outside_functions is deprecated. Please use tf.compat.v1.executing_eagerly_outside_functions instead.\n",
      "\n",
      "3/3 [==============================] - 1s 98ms/step - loss: 1182.1301 - accuracy: 0.2500\n",
      "Epoch 2/16\n",
      "3/3 [==============================] - 0s 98ms/step - loss: 751.6340 - accuracy: 0.3056\n",
      "Epoch 3/16\n",
      "3/3 [==============================] - 0s 110ms/step - loss: 253.8634 - accuracy: 0.3333\n",
      "Epoch 4/16\n",
      "3/3 [==============================] - 0s 96ms/step - loss: 6.0108 - accuracy: 0.6944\n",
      "Epoch 5/16\n",
      "3/3 [==============================] - 0s 98ms/step - loss: 4.8254 - accuracy: 0.7222\n",
      "Epoch 6/16\n",
      "3/3 [==============================] - 0s 98ms/step - loss: 0.4519 - accuracy: 0.8889\n",
      "Epoch 7/16\n",
      "3/3 [==============================] - 0s 96ms/step - loss: 0.0428 - accuracy: 1.0000\n",
      "Epoch 8/16\n",
      "3/3 [==============================] - 0s 102ms/step - loss: 0.1543 - accuracy: 0.9722\n",
      "Epoch 9/16\n",
      "3/3 [==============================] - 0s 100ms/step - loss: 0.0129 - accuracy: 1.0000\n",
      "Epoch 10/16\n",
      "3/3 [==============================] - 0s 104ms/step - loss: 0.0062 - accuracy: 1.0000\n",
      "Epoch 11/16\n",
      "3/3 [==============================] - 0s 104ms/step - loss: 0.0011 - accuracy: 1.0000\n",
      "Epoch 12/16\n",
      "3/3 [==============================] - 0s 100ms/step - loss: 2.0946e-04 - accuracy: 1.0000\n",
      "Epoch 13/16\n",
      "3/3 [==============================] - 0s 101ms/step - loss: 7.2893e-05 - accuracy: 1.0000\n",
      "Epoch 14/16\n",
      "3/3 [==============================] - 0s 103ms/step - loss: 2.6638e-05 - accuracy: 1.0000\n",
      "Epoch 15/16\n",
      "3/3 [==============================] - 0s 105ms/step - loss: 1.0059e-05 - accuracy: 1.0000\n",
      "Epoch 16/16\n",
      "3/3 [==============================] - 0s 103ms/step - loss: 4.9867e-06 - accuracy: 1.0000\n"
     ]
    },
    {
     "data": {
      "text/plain": [
       "<keras.src.callbacks.History at 0x2105690f750>"
      ]
     },
     "execution_count": 17,
     "metadata": {},
     "output_type": "execute_result"
    }
   ],
   "source": [
    "# train model\n",
    "model.fit(X,_Y, epochs=16, batch_size=16)"
   ]
  },
  {
   "cell_type": "code",
   "execution_count": 18,
   "id": "4597ca6f76771eda",
   "metadata": {
    "ExecuteTime": {
     "end_time": "2023-11-30T13:11:00.685380Z",
     "start_time": "2023-11-30T13:11:00.680824300Z"
    },
    "collapsed": false
   },
   "outputs": [],
   "source": [
    "# path of test dataset\n",
    "test_path = r\"data\""
   ]
  },
  {
   "cell_type": "code",
   "execution_count": 19,
   "id": "1babdac61ed633cc",
   "metadata": {
    "ExecuteTime": {
     "end_time": "2023-11-30T13:19:28.522394200Z",
     "start_time": "2023-11-30T13:19:24.847041900Z"
    },
    "collapsed": false
   },
   "outputs": [],
   "source": [
    "# create test data\n",
    "X_test, Y_test, Idx_test = make_data(test_path)"
   ]
  },
  {
   "cell_type": "code",
   "execution_count": 20,
   "id": "d75ca0109d0322ab",
   "metadata": {
    "ExecuteTime": {
     "end_time": "2023-11-30T13:19:29.487494200Z",
     "start_time": "2023-11-30T13:19:29.299083800Z"
    },
    "collapsed": false
   },
   "outputs": [],
   "source": [
    "# X_test to numpy array\n",
    "X_test = np.array(X_test)"
   ]
  },
  {
   "cell_type": "code",
   "execution_count": 21,
   "id": "b13a387fe32ee756",
   "metadata": {
    "ExecuteTime": {
     "end_time": "2023-11-30T13:19:30.361199600Z",
     "start_time": "2023-11-30T13:19:30.349758Z"
    },
    "collapsed": false
   },
   "outputs": [],
   "source": [
    "# convert Y_test to categorical\n",
    "Y_test = keras.utils.to_categorical(Y_test)"
   ]
  },
  {
   "cell_type": "code",
   "execution_count": 22,
   "id": "a183171851de1804",
   "metadata": {
    "ExecuteTime": {
     "end_time": "2023-11-30T13:19:35.326349100Z",
     "start_time": "2023-11-30T13:19:31.306276Z"
    },
    "collapsed": false
   },
   "outputs": [
    {
     "name": "stdout",
     "output_type": "stream",
     "text": [
      "2/2 [==============================] - 0s 15ms/step - loss: 2.9139e-06 - accuracy: 1.0000\n"
     ]
    },
    {
     "data": {
      "text/plain": [
       "[2.9139314392523374e-06, 1.0]"
      ]
     },
     "execution_count": 22,
     "metadata": {},
     "output_type": "execute_result"
    }
   ],
   "source": [
    "# evaluate model\n",
    "model.evaluate(X_test, Y_test)"
   ]
  },
  {
   "cell_type": "code",
   "execution_count": 23,
   "metadata": {},
   "outputs": [
    {
     "name": "stderr",
     "output_type": "stream",
     "text": [
      "c:\\Users\\ASUS\\anaconda3\\Lib\\site-packages\\keras\\src\\engine\\training.py:3103: UserWarning: You are saving your model as an HDF5 file via `model.save()`. This file format is considered legacy. We recommend using instead the native Keras format, e.g. `model.save('my_model.keras')`.\n",
      "  saving_api.save_model(\n"
     ]
    }
   ],
   "source": [
    "# save model\n",
    "model.save(\"model.h5\")"
   ]
  },
  {
   "cell_type": "code",
   "execution_count": 24,
   "metadata": {},
   "outputs": [],
   "source": [
    "# load model\n",
    "from keras.models import load_model\n",
    "model = load_model(\"model.h5\")"
   ]
  },
  {
   "cell_type": "code",
   "execution_count": 25,
   "id": "fbc5a98bd59fa17d",
   "metadata": {
    "ExecuteTime": {
     "end_time": "2023-11-30T13:16:33.477639100Z",
     "start_time": "2023-11-30T13:16:33.472028Z"
    },
    "collapsed": false
   },
   "outputs": [
    {
     "data": {
      "text/plain": [
       "{'Angry': 0, 'Happy': 1, 'Sad': 2}"
      ]
     },
     "execution_count": 25,
     "metadata": {},
     "output_type": "execute_result"
    }
   ],
   "source": [
    "Idx"
   ]
  }
 ],
 "metadata": {
  "kernelspec": {
   "display_name": "Python 3",
   "language": "python",
   "name": "python3"
  },
  "language_info": {
   "codemirror_mode": {
    "name": "ipython",
    "version": 3
   },
   "file_extension": ".py",
   "mimetype": "text/x-python",
   "name": "python",
   "nbconvert_exporter": "python",
   "pygments_lexer": "ipython3",
   "version": "3.11.5"
  }
 },
 "nbformat": 4,
 "nbformat_minor": 5
}
